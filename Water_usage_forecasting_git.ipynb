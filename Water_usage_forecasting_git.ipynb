{
 "cells": [
  {
   "cell_type": "code",
   "execution_count": 21,
   "id": "eb3a80db-629e-4041-9a5c-356872dceafd",
   "metadata": {
    "executionInfo": {
     "elapsed": 5849,
     "status": "ok",
     "timestamp": 1710008695396,
     "user": {
      "displayName": "binod",
      "userId": "09427321964700283955"
     },
     "user_tz": 360
    },
    "id": "eb3a80db-629e-4041-9a5c-356872dceafd"
   },
   "outputs": [],
   "source": [
    "# Importing all the essential libraries needed for our Machine Learning models\n",
    "import pandas as pd\n",
    "import numpy as np\n",
    "from datetime import datetime, timedelta\n",
    "from sklearn.model_selection import train_test_split\n",
    "from sklearn.preprocessing import StandardScaler\n",
    "from sklearn.ensemble import RandomForestRegressor\n",
    "from sklearn.svm import SVR\n",
    "from sklearn.neural_network import MLPRegressor\n",
    "from sklearn.metrics import mean_absolute_error, root_mean_squared_error, r2_score\n",
    "import tensorflow as tf\n",
    "from tensorflow.keras.models import Sequential\n",
    "from tensorflow.keras.layers import LSTM, Dense\n",
    "from tensorflow.keras.callbacks import EarlyStopping\n",
    "import matplotlib.pyplot as plt\n",
    "import matplotlib.image as mpimg\n",
    "from matplotlib import gridspec\n",
    "import seaborn as sns\n",
    "import warnings\n",
    "warnings.filterwarnings('ignore', category=FutureWarning)"
   ]
  },
  {
   "cell_type": "code",
   "execution_count": 22,
   "id": "ba7528d7-6c31-4c2f-9bc5-7a465fc27ecd",
   "metadata": {
    "id": "ba7528d7-6c31-4c2f-9bc5-7a465fc27ecd"
   },
   "outputs": [],
   "source": [
    "# Loading the file to perform data preprocessing\n",
    "Datafile_path = '/Users/veer/Desktop/ML_Project/water use data(buildings).xlsx'\n",
    "df = pd.read_excel(Datafile_path)"
   ]
  },
  {
   "cell_type": "code",
   "execution_count": 23,
   "id": "0b07dd1c-d2d7-4cea-bae8-5a802d61708c",
   "metadata": {
    "id": "0b07dd1c-d2d7-4cea-bae8-5a802d61708c"
   },
   "outputs": [],
   "source": [
    "## Remove unnecessary columns that are not required for our model\n",
    "df = df.drop(columns=['Unnamed: 0', 'Dew Point(C))'])"
   ]
  },
  {
   "cell_type": "code",
   "execution_count": 24,
   "id": "2465c7ba-bcfa-4421-8c46-562e2777aba1",
   "metadata": {},
   "outputs": [],
   "source": [
    "# Convert the \"Date\" column to datetime and sort the dataset by this column\n",
    "df['Date'] = pd.to_datetime(df['Date'])\n",
    "df.sort_values('Date', inplace=True)"
   ]
  },
  {
   "cell_type": "code",
   "execution_count": 25,
   "id": "457854ab-8efe-4fe5-a73b-7184228fd5dd",
   "metadata": {},
   "outputs": [],
   "source": [
    "# The \"Date\" column contains data in the format \"2023-01-01 02:59:59.985\", so we round it to the nearest hour\n",
    "df['Date'] = pd.to_datetime(df['Date']).dt.round('h')\n",
    "\n",
    "# After rounding the time to the nearest hour, we extract the time from the \"Date\" column and create a new column\n",
    "df['Time_Extracted'] = df['Date'].dt.time\n",
    "\n",
    "# Creating a new column \"Hour\" from the \"Time_Extracted\" column to use as a feature for training the model\n",
    "df['Hour'] = df['Time_Extracted'].apply(lambda t: t.hour)\n",
    "\n",
    "# Keeping the \"Date\" column as it is, without the time component\n",
    "df['Date'] = df['Date'].dt.date"
   ]
  },
  {
   "cell_type": "code",
   "execution_count": 26,
   "id": "fd791485-ab78-42e2-b112-6191e661d056",
   "metadata": {},
   "outputs": [],
   "source": [
    "# Mapping 4 Seasons in the Dataset [spring, summer, autumn, winter] to respective numbers to use them as feature\n",
    "Seasons_Num_Map = {\n",
    "    'spring': 1,\n",
    "    'summer': 2,\n",
    "    'autumn': 3,\n",
    "    'winter': 4\n",
    "}\n",
    "\n",
    "# Creating a new column to map the Seasons by numbers\n",
    "df['Seasons_num'] = df['Seasons'].map(Seasons_Num_Map)"
   ]
  },
  {
   "cell_type": "code",
   "execution_count": 27,
   "id": "9a560d25-f719-426e-b607-2e77ae66e3a6",
   "metadata": {
    "id": "9a560d25-f719-426e-b607-2e77ae66e3a6"
   },
   "outputs": [],
   "source": [
    "# Missing Values in the numeric columns are interpolated\n",
    "num_columns = df.select_dtypes(include='number').columns\n",
    "df[num_columns] = df[num_columns].interpolate(method='linear')"
   ]
  },
  {
   "cell_type": "code",
   "execution_count": 28,
   "id": "929a5a9f-c6b0-4581-bb8a-829e43340f21",
   "metadata": {
    "id": "929a5a9f-c6b0-4581-bb8a-829e43340f21",
    "outputId": "8379db5c-1da4-49b7-d725-392da154efdc"
   },
   "outputs": [
    {
     "name": "stdout",
     "output_type": "stream",
     "text": [
      "Number of NaN or null values in the dataset: 0\n"
     ]
    }
   ],
   "source": [
    "# Check for any null or NaN values in the dataset\n",
    "NaN_Cnt = df.isnull().sum().sum()\n",
    "print('Number of NaN or null values in the dataset:', NaN_Cnt)"
   ]
  },
  {
   "cell_type": "code",
   "execution_count": 29,
   "id": "4ec987f6-e552-411b-b8d7-7d7097dd8b63",
   "metadata": {
    "id": "4ec987f6-e552-411b-b8d7-7d7097dd8b63"
   },
   "outputs": [],
   "source": [
    "# Creating Hourly Lag features for use in the model\n",
    "for i in range(1, 25):\n",
    "    df[f'{i}h_Lag'] = df['Water Consumption(GPM)'].shift(i)"
   ]
  },
  {
   "cell_type": "code",
   "execution_count": 30,
   "id": "3226e940-53aa-44e5-960b-b885e2f69ee8",
   "metadata": {
    "id": "3226e940-53aa-44e5-960b-b885e2f69ee8"
   },
   "outputs": [],
   "source": [
    "# Creating a Lag feature representing the same time from the previous week\n",
    "df['Last_Week_Same_Time'] = df['Water Consumption(GPM)'].shift(24*7)"
   ]
  },
  {
   "cell_type": "code",
   "execution_count": 31,
   "id": "9d8a6f9d-c719-4fdb-8e4d-3fceb1e9a9d1",
   "metadata": {},
   "outputs": [],
   "source": [
    "#Interpolation of missing values using backward fill interpolation technique\n",
    "df = df.bfill()"
   ]
  },
  {
   "cell_type": "code",
   "execution_count": 32,
   "id": "428a389d-f201-435c-b288-b735fb94e058",
   "metadata": {
    "id": "428a389d-f201-435c-b288-b735fb94e058",
    "outputId": "32ff2382-9c7d-4b16-ee45-26ab750e0ca8"
   },
   "outputs": [],
   "source": [
    "#Interpolation of missing values using linear interpolation technique\n",
    "df = df.interpolate('linear')"
   ]
  },
  {
   "cell_type": "markdown",
   "id": "c6c5f1d3-8fe7-4f39-9478-08884ca76a75",
   "metadata": {
    "id": "c6c5f1d3-8fe7-4f39-9478-08884ca76a75"
   },
   "source": [
    "###### One-hot encode categorical variables\n",
    "df_encoded = pd.get_dummies(df, drop_first=True)"
   ]
  },
  {
   "cell_type": "code",
   "execution_count": 33,
   "id": "bff610e9-5ae2-4e72-997c-6a08b0dbd34c",
   "metadata": {
    "id": "bff610e9-5ae2-4e72-997c-6a08b0dbd34c"
   },
   "outputs": [],
   "source": [
    "# The pre-processed file is saved at the specified location; users can modify this path or skip this step if not needed\n",
    "Processed_file_path = '/Users/veer/Desktop/ML_Project/Processed_water_use.csv'\n",
    "\n",
    "# Save the pre-processed DataFrame to a CSV file\n",
    "df.to_csv(Processed_file_path, index=False)\n"
   ]
  },
  {
   "cell_type": "code",
   "execution_count": 34,
   "id": "ba43f29a-5c84-44bd-8c59-c1f74358f32a",
   "metadata": {
    "id": "ba43f29a-5c84-44bd-8c59-c1f74358f32a"
   },
   "outputs": [],
   "source": [
    "# Removing the columns not required for model training\n",
    "df.drop('Seasons', axis=1, inplace=True)\n",
    "df.drop('Date', axis=1, inplace=True)\n",
    "df.drop('Time_Extracted', axis=1, inplace=True)"
   ]
  },
  {
   "cell_type": "code",
   "execution_count": 35,
   "id": "e94b73ab-dbc6-47af-8226-f702ceef0c7c",
   "metadata": {
    "id": "e94b73ab-dbc6-47af-8226-f702ceef0c7c"
   },
   "outputs": [],
   "source": [
    "# Setting up the Features (X) and Target (y)\n",
    "X = df.drop('Water Consumption(GPM)', axis=1)\n",
    "y = df['Water Consumption(GPM)']"
   ]
  },
  {
   "cell_type": "code",
   "execution_count": 36,
   "id": "4e852bef-e9a4-4a5a-87d9-68b2c0c130c9",
   "metadata": {
    "id": "4e852bef-e9a4-4a5a-87d9-68b2c0c130c9"
   },
   "outputs": [],
   "source": [
    "# Splitting the Dataset or DataFrame into Training and Testing sets\n",
    "X_train, X_test, y_train, y_test = train_test_split(X, y, test_size=0.2, random_state=42)"
   ]
  },
  {
   "cell_type": "code",
   "execution_count": 37,
   "id": "08e5f992-9060-490a-b2c0-9547c478ea1c",
   "metadata": {
    "id": "08e5f992-9060-490a-b2c0-9547c478ea1c"
   },
   "outputs": [],
   "source": [
    "# Scale the Features using Standard Scaler in Scikit-Learn\n",
    "scaler = StandardScaler()\n",
    "X_train_scaled = scaler.fit_transform(X_train)\n",
    "X_test_scaled = scaler.transform(X_test)"
   ]
  },
  {
   "cell_type": "code",
   "execution_count": 38,
   "id": "f625a146-2105-48f1-b22a-db40599331f5",
   "metadata": {
    "id": "f625a146-2105-48f1-b22a-db40599331f5"
   },
   "outputs": [],
   "source": [
    "# Reshape the data for the LSTM model since TensorFlow requires a 3D input array: [samples, timesteps, features]\n",
    "X_train_reshaped = X_train_scaled.reshape((X_train_scaled.shape[0], 1, X_train_scaled.shape[1]))\n",
    "X_test_reshaped = X_test_scaled.reshape((X_test_scaled.shape[0], 1, X_test_scaled.shape[1]))"
   ]
  },
  {
   "cell_type": "code",
   "execution_count": 39,
   "id": "e862e14c-9587-4f27-b594-8f796ace885c",
   "metadata": {
    "id": "e862e14c-9587-4f27-b594-8f796ace885c",
    "outputId": "52a85ae8-6bfb-4da8-f149-9676cc5acd97"
   },
   "outputs": [
    {
     "name": "stdout",
     "output_type": "stream",
     "text": [
      "Random Forest RMSE: 27.273442820328064\n",
      "Random Forest MAE: 13.66181875535577\n",
      "RandomForest R^2: 0.7750892756628496\n"
     ]
    }
   ],
   "source": [
    "# Prepare the model for Random Forest (RandomForestRegressor)\n",
    "rf = RandomForestRegressor(n_estimators=100, random_state=42)\n",
    "rf.fit(X_train, y_train)\n",
    "\n",
    "# Make predictions using the trained Random Forest model\n",
    "rf_predictions = rf.predict(X_test)\n",
    "\n",
    "# Print the evaluation metrics for the Random Forest model\n",
    "print(\"Random Forest RMSE:\", root_mean_squared_error(y_test, rf_predictions))\n",
    "print(\"Random Forest MAE:\", mean_absolute_error(y_test, rf_predictions))\n",
    "print(\"RandomForest R^2:\", r2_score(y_test, rf_predictions))"
   ]
  },
  {
   "cell_type": "code",
   "execution_count": 40,
   "id": "0f7ac09b-72c1-470e-a434-e577d8467dcb",
   "metadata": {
    "id": "0f7ac09b-72c1-470e-a434-e577d8467dcb",
    "outputId": "0a6a3b25-1d35-49bb-f2f1-009b279cd59b"
   },
   "outputs": [
    {
     "name": "stdout",
     "output_type": "stream",
     "text": [
      "SVM RMSE: 36.38103777696246\n",
      "SVM MAE: 18.166793313233015\n",
      "SVM R^2: 0.5997969418598468\n"
     ]
    }
   ],
   "source": [
    "## Preparing the model using Support Vector Machine Regressor (SVR)\n",
    "svm = SVR(kernel='rbf')\n",
    "svm.fit(X_train_scaled, y_train)\n",
    "\n",
    "# Predicting the values using the trained SVM model\n",
    "svm_predictions = svm.predict(X_test_scaled)\n",
    "\n",
    "# Printing the evaluation metrics of the SVM model\n",
    "print(\"SVM RMSE:\", root_mean_squared_error(y_test, svm_predictions))\n",
    "print(\"SVM MAE:\", mean_absolute_error(y_test, svm_predictions))\n",
    "print(\"SVM R^2:\", r2_score(y_test, svm_predictions))"
   ]
  },
  {
   "cell_type": "code",
   "execution_count": 41,
   "id": "da709ef6-3d95-4077-bf30-91f57043f6a9",
   "metadata": {
    "id": "da709ef6-3d95-4077-bf30-91f57043f6a9",
    "outputId": "99bbd9a6-2a93-433f-ffac-e9ab5b0e35a3"
   },
   "outputs": [
    {
     "name": "stdout",
     "output_type": "stream",
     "text": [
      "ANN RMSE: 28.531064308970898\n",
      "ANN MAE: 15.48726346293472\n",
      "ANN R^2: 0.7538690761586385\n"
     ]
    }
   ],
   "source": [
    "# Training the model using ANN Scikit-learn’s MLPRegressor\n",
    "mlp = MLPRegressor(\n",
    "    hidden_layer_sizes=(100,), \n",
    "    activation='relu', \n",
    "    solver='adam',\n",
    "    alpha=0.0001, \n",
    "    learning_rate='adaptive', \n",
    "    learning_rate_init=0.001, \n",
    "    max_iter=500, \n",
    "    early_stopping=True, \n",
    "    validation_fraction=0.1, \n",
    "    n_iter_no_change=10, \n",
    "    random_state=42\n",
    ")\n",
    "mlp.fit(X_train_scaled, y_train)\n",
    "\n",
    "# Predicting the values using the trained MLP model\n",
    "mlp_predictions = mlp.predict(X_test_scaled)\n",
    "\n",
    "# Printing the evaluation metrics of the MLP model\n",
    "print(\"ANN RMSE:\", root_mean_squared_error(y_test, mlp_predictions))\n",
    "print(\"ANN MAE:\", mean_absolute_error(y_test, mlp_predictions))\n",
    "print(\"ANN R^2:\", r2_score(y_test, mlp_predictions))"
   ]
  },
  {
   "cell_type": "code",
   "execution_count": 42,
   "id": "fa713715-cd32-4276-aa42-2fc7427ef6d5",
   "metadata": {
    "id": "fa713715-cd32-4276-aa42-2fc7427ef6d5",
    "outputId": "2cdcfe98-77d0-41a0-b4c8-6aed556ea3eb"
   },
   "outputs": [
    {
     "name": "stdout",
     "output_type": "stream",
     "text": [
      "Epoch 1/100\n"
     ]
    },
    {
     "name": "stderr",
     "output_type": "stream",
     "text": [
      "/Library/Frameworks/Python.framework/Versions/3.12/lib/python3.12/site-packages/keras/src/layers/rnn/rnn.py:205: UserWarning: Do not pass an `input_shape`/`input_dim` argument to a layer. When using Sequential models, prefer using an `Input(shape)` object as the first layer in the model instead.\n",
      "  super().__init__(**kwargs)\n"
     ]
    },
    {
     "name": "stdout",
     "output_type": "stream",
     "text": [
      "\u001b[1m176/176\u001b[0m \u001b[32m━━━━━━━━━━━━━━━━━━━━\u001b[0m\u001b[37m\u001b[0m \u001b[1m1s\u001b[0m 987us/step - loss: 6974.5645 - val_loss: 5243.9497\n",
      "Epoch 2/100\n",
      "\u001b[1m176/176\u001b[0m \u001b[32m━━━━━━━━━━━━━━━━━━━━\u001b[0m\u001b[37m\u001b[0m \u001b[1m0s\u001b[0m 510us/step - loss: 5029.5938 - val_loss: 2669.1423\n",
      "Epoch 3/100\n",
      "\u001b[1m176/176\u001b[0m \u001b[32m━━━━━━━━━━━━━━━━━━━━\u001b[0m\u001b[37m\u001b[0m \u001b[1m0s\u001b[0m 492us/step - loss: 2389.1875 - val_loss: 1795.0961\n",
      "Epoch 4/100\n",
      "\u001b[1m176/176\u001b[0m \u001b[32m━━━━━━━━━━━━━━━━━━━━\u001b[0m\u001b[37m\u001b[0m \u001b[1m0s\u001b[0m 491us/step - loss: 1579.7152 - val_loss: 1534.7656\n",
      "Epoch 5/100\n",
      "\u001b[1m176/176\u001b[0m \u001b[32m━━━━━━━━━━━━━━━━━━━━\u001b[0m\u001b[37m\u001b[0m \u001b[1m0s\u001b[0m 483us/step - loss: 1468.3885 - val_loss: 1402.7030\n",
      "Epoch 6/100\n",
      "\u001b[1m176/176\u001b[0m \u001b[32m━━━━━━━━━━━━━━━━━━━━\u001b[0m\u001b[37m\u001b[0m \u001b[1m0s\u001b[0m 492us/step - loss: 1229.7992 - val_loss: 1297.4546\n",
      "Epoch 7/100\n",
      "\u001b[1m176/176\u001b[0m \u001b[32m━━━━━━━━━━━━━━━━━━━━\u001b[0m\u001b[37m\u001b[0m \u001b[1m0s\u001b[0m 500us/step - loss: 1237.3193 - val_loss: 1200.1219\n",
      "Epoch 8/100\n",
      "\u001b[1m176/176\u001b[0m \u001b[32m━━━━━━━━━━━━━━━━━━━━\u001b[0m\u001b[37m\u001b[0m \u001b[1m0s\u001b[0m 518us/step - loss: 1106.0928 - val_loss: 1130.8068\n",
      "Epoch 9/100\n",
      "\u001b[1m176/176\u001b[0m \u001b[32m━━━━━━━━━━━━━━━━━━━━\u001b[0m\u001b[37m\u001b[0m \u001b[1m0s\u001b[0m 491us/step - loss: 1204.3225 - val_loss: 1069.4536\n",
      "Epoch 10/100\n",
      "\u001b[1m176/176\u001b[0m \u001b[32m━━━━━━━━━━━━━━━━━━━━\u001b[0m\u001b[37m\u001b[0m \u001b[1m0s\u001b[0m 468us/step - loss: 1122.6644 - val_loss: 1027.0360\n",
      "Epoch 11/100\n",
      "\u001b[1m176/176\u001b[0m \u001b[32m━━━━━━━━━━━━━━━━━━━━\u001b[0m\u001b[37m\u001b[0m \u001b[1m0s\u001b[0m 487us/step - loss: 1027.6105 - val_loss: 991.4631\n",
      "Epoch 12/100\n",
      "\u001b[1m176/176\u001b[0m \u001b[32m━━━━━━━━━━━━━━━━━━━━\u001b[0m\u001b[37m\u001b[0m \u001b[1m0s\u001b[0m 470us/step - loss: 868.3013 - val_loss: 953.9542\n",
      "Epoch 13/100\n",
      "\u001b[1m176/176\u001b[0m \u001b[32m━━━━━━━━━━━━━━━━━━━━\u001b[0m\u001b[37m\u001b[0m \u001b[1m0s\u001b[0m 468us/step - loss: 1052.6780 - val_loss: 923.5510\n",
      "Epoch 14/100\n",
      "\u001b[1m176/176\u001b[0m \u001b[32m━━━━━━━━━━━━━━━━━━━━\u001b[0m\u001b[37m\u001b[0m \u001b[1m0s\u001b[0m 482us/step - loss: 862.3315 - val_loss: 897.8303\n",
      "Epoch 15/100\n",
      "\u001b[1m176/176\u001b[0m \u001b[32m━━━━━━━━━━━━━━━━━━━━\u001b[0m\u001b[37m\u001b[0m \u001b[1m0s\u001b[0m 460us/step - loss: 934.3740 - val_loss: 867.3756\n",
      "Epoch 16/100\n",
      "\u001b[1m176/176\u001b[0m \u001b[32m━━━━━━━━━━━━━━━━━━━━\u001b[0m\u001b[37m\u001b[0m \u001b[1m0s\u001b[0m 462us/step - loss: 818.5454 - val_loss: 848.5129\n",
      "Epoch 17/100\n",
      "\u001b[1m176/176\u001b[0m \u001b[32m━━━━━━━━━━━━━━━━━━━━\u001b[0m\u001b[37m\u001b[0m \u001b[1m0s\u001b[0m 464us/step - loss: 724.3038 - val_loss: 833.3240\n",
      "Epoch 18/100\n",
      "\u001b[1m176/176\u001b[0m \u001b[32m━━━━━━━━━━━━━━━━━━━━\u001b[0m\u001b[37m\u001b[0m \u001b[1m0s\u001b[0m 470us/step - loss: 830.5066 - val_loss: 812.7448\n",
      "Epoch 19/100\n",
      "\u001b[1m176/176\u001b[0m \u001b[32m━━━━━━━━━━━━━━━━━━━━\u001b[0m\u001b[37m\u001b[0m \u001b[1m0s\u001b[0m 472us/step - loss: 755.6713 - val_loss: 796.3275\n",
      "Epoch 20/100\n",
      "\u001b[1m176/176\u001b[0m \u001b[32m━━━━━━━━━━━━━━━━━━━━\u001b[0m\u001b[37m\u001b[0m \u001b[1m0s\u001b[0m 471us/step - loss: 791.3082 - val_loss: 788.8106\n",
      "Epoch 21/100\n",
      "\u001b[1m176/176\u001b[0m \u001b[32m━━━━━━━━━━━━━━━━━━━━\u001b[0m\u001b[37m\u001b[0m \u001b[1m0s\u001b[0m 472us/step - loss: 817.3181 - val_loss: 774.5230\n",
      "Epoch 22/100\n",
      "\u001b[1m176/176\u001b[0m \u001b[32m━━━━━━━━━━━━━━━━━━━━\u001b[0m\u001b[37m\u001b[0m \u001b[1m0s\u001b[0m 473us/step - loss: 734.2156 - val_loss: 760.3844\n",
      "Epoch 23/100\n",
      "\u001b[1m176/176\u001b[0m \u001b[32m━━━━━━━━━━━━━━━━━━━━\u001b[0m\u001b[37m\u001b[0m \u001b[1m0s\u001b[0m 469us/step - loss: 875.3448 - val_loss: 748.8607\n",
      "Epoch 24/100\n",
      "\u001b[1m176/176\u001b[0m \u001b[32m━━━━━━━━━━━━━━━━━━━━\u001b[0m\u001b[37m\u001b[0m \u001b[1m0s\u001b[0m 794us/step - loss: 716.2697 - val_loss: 741.5948\n",
      "Epoch 25/100\n",
      "\u001b[1m176/176\u001b[0m \u001b[32m━━━━━━━━━━━━━━━━━━━━\u001b[0m\u001b[37m\u001b[0m \u001b[1m0s\u001b[0m 509us/step - loss: 715.3779 - val_loss: 729.0658\n",
      "Epoch 26/100\n",
      "\u001b[1m176/176\u001b[0m \u001b[32m━━━━━━━━━━━━━━━━━━━━\u001b[0m\u001b[37m\u001b[0m \u001b[1m0s\u001b[0m 521us/step - loss: 715.8135 - val_loss: 726.5140\n",
      "Epoch 27/100\n",
      "\u001b[1m176/176\u001b[0m \u001b[32m━━━━━━━━━━━━━━━━━━━━\u001b[0m\u001b[37m\u001b[0m \u001b[1m0s\u001b[0m 510us/step - loss: 788.2366 - val_loss: 712.7773\n",
      "Epoch 28/100\n",
      "\u001b[1m176/176\u001b[0m \u001b[32m━━━━━━━━━━━━━━━━━━━━\u001b[0m\u001b[37m\u001b[0m \u001b[1m0s\u001b[0m 471us/step - loss: 706.7479 - val_loss: 708.5073\n",
      "Epoch 29/100\n",
      "\u001b[1m176/176\u001b[0m \u001b[32m━━━━━━━━━━━━━━━━━━━━\u001b[0m\u001b[37m\u001b[0m \u001b[1m0s\u001b[0m 487us/step - loss: 644.2515 - val_loss: 704.6071\n",
      "Epoch 30/100\n",
      "\u001b[1m176/176\u001b[0m \u001b[32m━━━━━━━━━━━━━━━━━━━━\u001b[0m\u001b[37m\u001b[0m \u001b[1m0s\u001b[0m 483us/step - loss: 737.1182 - val_loss: 699.3303\n",
      "Epoch 31/100\n",
      "\u001b[1m176/176\u001b[0m \u001b[32m━━━━━━━━━━━━━━━━━━━━\u001b[0m\u001b[37m\u001b[0m \u001b[1m0s\u001b[0m 473us/step - loss: 700.6678 - val_loss: 691.5870\n",
      "Epoch 32/100\n",
      "\u001b[1m176/176\u001b[0m \u001b[32m━━━━━━━━━━━━━━━━━━━━\u001b[0m\u001b[37m\u001b[0m \u001b[1m0s\u001b[0m 467us/step - loss: 649.4982 - val_loss: 684.6119\n",
      "Epoch 33/100\n",
      "\u001b[1m176/176\u001b[0m \u001b[32m━━━━━━━━━━━━━━━━━━━━\u001b[0m\u001b[37m\u001b[0m \u001b[1m0s\u001b[0m 480us/step - loss: 584.4559 - val_loss: 682.9708\n",
      "Epoch 34/100\n",
      "\u001b[1m176/176\u001b[0m \u001b[32m━━━━━━━━━━━━━━━━━━━━\u001b[0m\u001b[37m\u001b[0m \u001b[1m0s\u001b[0m 482us/step - loss: 640.8353 - val_loss: 682.2595\n",
      "Epoch 35/100\n",
      "\u001b[1m176/176\u001b[0m \u001b[32m━━━━━━━━━━━━━━━━━━━━\u001b[0m\u001b[37m\u001b[0m \u001b[1m0s\u001b[0m 492us/step - loss: 664.5623 - val_loss: 674.5225\n",
      "Epoch 36/100\n",
      "\u001b[1m176/176\u001b[0m \u001b[32m━━━━━━━━━━━━━━━━━━━━\u001b[0m\u001b[37m\u001b[0m \u001b[1m0s\u001b[0m 487us/step - loss: 629.3643 - val_loss: 668.4258\n",
      "Epoch 37/100\n",
      "\u001b[1m176/176\u001b[0m \u001b[32m━━━━━━━━━━━━━━━━━━━━\u001b[0m\u001b[37m\u001b[0m \u001b[1m0s\u001b[0m 500us/step - loss: 676.4061 - val_loss: 666.5674\n",
      "Epoch 38/100\n",
      "\u001b[1m176/176\u001b[0m \u001b[32m━━━━━━━━━━━━━━━━━━━━\u001b[0m\u001b[37m\u001b[0m \u001b[1m0s\u001b[0m 499us/step - loss: 670.6434 - val_loss: 671.6345\n",
      "Epoch 39/100\n",
      "\u001b[1m176/176\u001b[0m \u001b[32m━━━━━━━━━━━━━━━━━━━━\u001b[0m\u001b[37m\u001b[0m \u001b[1m0s\u001b[0m 494us/step - loss: 617.2033 - val_loss: 660.6469\n",
      "Epoch 40/100\n",
      "\u001b[1m176/176\u001b[0m \u001b[32m━━━━━━━━━━━━━━━━━━━━\u001b[0m\u001b[37m\u001b[0m \u001b[1m0s\u001b[0m 481us/step - loss: 657.5682 - val_loss: 659.0586\n",
      "Epoch 41/100\n",
      "\u001b[1m176/176\u001b[0m \u001b[32m━━━━━━━━━━━━━━━━━━━━\u001b[0m\u001b[37m\u001b[0m \u001b[1m0s\u001b[0m 501us/step - loss: 627.4319 - val_loss: 658.0568\n",
      "Epoch 42/100\n",
      "\u001b[1m176/176\u001b[0m \u001b[32m━━━━━━━━━━━━━━━━━━━━\u001b[0m\u001b[37m\u001b[0m \u001b[1m0s\u001b[0m 484us/step - loss: 692.2810 - val_loss: 652.6071\n",
      "Epoch 43/100\n",
      "\u001b[1m176/176\u001b[0m \u001b[32m━━━━━━━━━━━━━━━━━━━━\u001b[0m\u001b[37m\u001b[0m \u001b[1m0s\u001b[0m 497us/step - loss: 571.7330 - val_loss: 653.5090\n",
      "Epoch 44/100\n",
      "\u001b[1m176/176\u001b[0m \u001b[32m━━━━━━━━━━━━━━━━━━━━\u001b[0m\u001b[37m\u001b[0m \u001b[1m0s\u001b[0m 482us/step - loss: 625.3418 - val_loss: 652.4014\n",
      "Epoch 45/100\n",
      "\u001b[1m176/176\u001b[0m \u001b[32m━━━━━━━━━━━━━━━━━━━━\u001b[0m\u001b[37m\u001b[0m \u001b[1m0s\u001b[0m 476us/step - loss: 634.5903 - val_loss: 644.9421\n",
      "Epoch 46/100\n",
      "\u001b[1m176/176\u001b[0m \u001b[32m━━━━━━━━━━━━━━━━━━━━\u001b[0m\u001b[37m\u001b[0m \u001b[1m0s\u001b[0m 480us/step - loss: 553.1577 - val_loss: 651.2568\n",
      "Epoch 47/100\n",
      "\u001b[1m176/176\u001b[0m \u001b[32m━━━━━━━━━━━━━━━━━━━━\u001b[0m\u001b[37m\u001b[0m \u001b[1m0s\u001b[0m 481us/step - loss: 520.3403 - val_loss: 649.5127\n",
      "Epoch 48/100\n",
      "\u001b[1m176/176\u001b[0m \u001b[32m━━━━━━━━━━━━━━━━━━━━\u001b[0m\u001b[37m\u001b[0m \u001b[1m0s\u001b[0m 478us/step - loss: 559.5134 - val_loss: 650.0180\n",
      "Epoch 49/100\n",
      "\u001b[1m176/176\u001b[0m \u001b[32m━━━━━━━━━━━━━━━━━━━━\u001b[0m\u001b[37m\u001b[0m \u001b[1m0s\u001b[0m 477us/step - loss: 607.0020 - val_loss: 637.8995\n",
      "Epoch 50/100\n",
      "\u001b[1m176/176\u001b[0m \u001b[32m━━━━━━━━━━━━━━━━━━━━\u001b[0m\u001b[37m\u001b[0m \u001b[1m0s\u001b[0m 475us/step - loss: 552.2152 - val_loss: 631.7524\n",
      "Epoch 51/100\n",
      "\u001b[1m176/176\u001b[0m \u001b[32m━━━━━━━━━━━━━━━━━━━━\u001b[0m\u001b[37m\u001b[0m \u001b[1m0s\u001b[0m 479us/step - loss: 592.2411 - val_loss: 630.3210\n",
      "Epoch 52/100\n",
      "\u001b[1m176/176\u001b[0m \u001b[32m━━━━━━━━━━━━━━━━━━━━\u001b[0m\u001b[37m\u001b[0m \u001b[1m0s\u001b[0m 519us/step - loss: 510.5083 - val_loss: 630.4203\n",
      "Epoch 53/100\n",
      "\u001b[1m176/176\u001b[0m \u001b[32m━━━━━━━━━━━━━━━━━━━━\u001b[0m\u001b[37m\u001b[0m \u001b[1m0s\u001b[0m 471us/step - loss: 604.0792 - val_loss: 627.6059\n",
      "Epoch 54/100\n",
      "\u001b[1m176/176\u001b[0m \u001b[32m━━━━━━━━━━━━━━━━━━━━\u001b[0m\u001b[37m\u001b[0m \u001b[1m0s\u001b[0m 488us/step - loss: 581.8677 - val_loss: 630.1207\n",
      "Epoch 55/100\n",
      "\u001b[1m176/176\u001b[0m \u001b[32m━━━━━━━━━━━━━━━━━━━━\u001b[0m\u001b[37m\u001b[0m \u001b[1m0s\u001b[0m 499us/step - loss: 582.7708 - val_loss: 629.9247\n",
      "Epoch 56/100\n",
      "\u001b[1m176/176\u001b[0m \u001b[32m━━━━━━━━━━━━━━━━━━━━\u001b[0m\u001b[37m\u001b[0m \u001b[1m0s\u001b[0m 536us/step - loss: 656.7766 - val_loss: 625.0071\n",
      "Epoch 57/100\n",
      "\u001b[1m176/176\u001b[0m \u001b[32m━━━━━━━━━━━━━━━━━━━━\u001b[0m\u001b[37m\u001b[0m \u001b[1m0s\u001b[0m 489us/step - loss: 563.6895 - val_loss: 627.9794\n",
      "Epoch 58/100\n",
      "\u001b[1m176/176\u001b[0m \u001b[32m━━━━━━━━━━━━━━━━━━━━\u001b[0m\u001b[37m\u001b[0m \u001b[1m0s\u001b[0m 496us/step - loss: 544.6329 - val_loss: 623.4769\n",
      "Epoch 59/100\n",
      "\u001b[1m176/176\u001b[0m \u001b[32m━━━━━━━━━━━━━━━━━━━━\u001b[0m\u001b[37m\u001b[0m \u001b[1m0s\u001b[0m 506us/step - loss: 615.5757 - val_loss: 617.8603\n",
      "Epoch 60/100\n",
      "\u001b[1m176/176\u001b[0m \u001b[32m━━━━━━━━━━━━━━━━━━━━\u001b[0m\u001b[37m\u001b[0m \u001b[1m0s\u001b[0m 476us/step - loss: 551.2987 - val_loss: 621.9844\n",
      "Epoch 61/100\n",
      "\u001b[1m176/176\u001b[0m \u001b[32m━━━━━━━━━━━━━━━━━━━━\u001b[0m\u001b[37m\u001b[0m \u001b[1m0s\u001b[0m 487us/step - loss: 584.3306 - val_loss: 621.4737\n",
      "Epoch 62/100\n",
      "\u001b[1m176/176\u001b[0m \u001b[32m━━━━━━━━━━━━━━━━━━━━\u001b[0m\u001b[37m\u001b[0m \u001b[1m0s\u001b[0m 487us/step - loss: 492.9417 - val_loss: 612.8622\n",
      "Epoch 63/100\n",
      "\u001b[1m176/176\u001b[0m \u001b[32m━━━━━━━━━━━━━━━━━━━━\u001b[0m\u001b[37m\u001b[0m \u001b[1m0s\u001b[0m 488us/step - loss: 508.8436 - val_loss: 611.8018\n",
      "Epoch 64/100\n",
      "\u001b[1m176/176\u001b[0m \u001b[32m━━━━━━━━━━━━━━━━━━━━\u001b[0m\u001b[37m\u001b[0m \u001b[1m0s\u001b[0m 489us/step - loss: 525.5023 - val_loss: 610.2141\n",
      "Epoch 65/100\n",
      "\u001b[1m176/176\u001b[0m \u001b[32m━━━━━━━━━━━━━━━━━━━━\u001b[0m\u001b[37m\u001b[0m \u001b[1m0s\u001b[0m 499us/step - loss: 542.5619 - val_loss: 612.1875\n",
      "Epoch 66/100\n",
      "\u001b[1m176/176\u001b[0m \u001b[32m━━━━━━━━━━━━━━━━━━━━\u001b[0m\u001b[37m\u001b[0m \u001b[1m0s\u001b[0m 485us/step - loss: 499.8201 - val_loss: 611.3192\n",
      "Epoch 67/100\n",
      "\u001b[1m176/176\u001b[0m \u001b[32m━━━━━━━━━━━━━━━━━━━━\u001b[0m\u001b[37m\u001b[0m \u001b[1m0s\u001b[0m 472us/step - loss: 563.9720 - val_loss: 604.1430\n",
      "Epoch 68/100\n",
      "\u001b[1m176/176\u001b[0m \u001b[32m━━━━━━━━━━━━━━━━━━━━\u001b[0m\u001b[37m\u001b[0m \u001b[1m0s\u001b[0m 494us/step - loss: 500.9984 - val_loss: 609.5385\n",
      "Epoch 69/100\n",
      "\u001b[1m176/176\u001b[0m \u001b[32m━━━━━━━━━━━━━━━━━━━━\u001b[0m\u001b[37m\u001b[0m \u001b[1m0s\u001b[0m 491us/step - loss: 492.2820 - val_loss: 606.1138\n",
      "Epoch 70/100\n",
      "\u001b[1m176/176\u001b[0m \u001b[32m━━━━━━━━━━━━━━━━━━━━\u001b[0m\u001b[37m\u001b[0m \u001b[1m0s\u001b[0m 492us/step - loss: 527.0800 - val_loss: 603.8672\n",
      "Epoch 71/100\n",
      "\u001b[1m176/176\u001b[0m \u001b[32m━━━━━━━━━━━━━━━━━━━━\u001b[0m\u001b[37m\u001b[0m \u001b[1m0s\u001b[0m 488us/step - loss: 517.3284 - val_loss: 601.1596\n",
      "Epoch 72/100\n",
      "\u001b[1m176/176\u001b[0m \u001b[32m━━━━━━━━━━━━━━━━━━━━\u001b[0m\u001b[37m\u001b[0m \u001b[1m0s\u001b[0m 491us/step - loss: 465.5430 - val_loss: 608.8303\n",
      "Epoch 73/100\n",
      "\u001b[1m176/176\u001b[0m \u001b[32m━━━━━━━━━━━━━━━━━━━━\u001b[0m\u001b[37m\u001b[0m \u001b[1m0s\u001b[0m 469us/step - loss: 466.5818 - val_loss: 601.8156\n",
      "Epoch 74/100\n",
      "\u001b[1m176/176\u001b[0m \u001b[32m━━━━━━━━━━━━━━━━━━━━\u001b[0m\u001b[37m\u001b[0m \u001b[1m0s\u001b[0m 535us/step - loss: 556.3632 - val_loss: 594.9700\n",
      "Epoch 75/100\n",
      "\u001b[1m176/176\u001b[0m \u001b[32m━━━━━━━━━━━━━━━━━━━━\u001b[0m\u001b[37m\u001b[0m \u001b[1m0s\u001b[0m 483us/step - loss: 510.1770 - val_loss: 596.6454\n",
      "Epoch 76/100\n",
      "\u001b[1m176/176\u001b[0m \u001b[32m━━━━━━━━━━━━━━━━━━━━\u001b[0m\u001b[37m\u001b[0m \u001b[1m0s\u001b[0m 487us/step - loss: 511.6815 - val_loss: 595.5391\n",
      "Epoch 77/100\n",
      "\u001b[1m176/176\u001b[0m \u001b[32m━━━━━━━━━━━━━━━━━━━━\u001b[0m\u001b[37m\u001b[0m \u001b[1m0s\u001b[0m 484us/step - loss: 563.0988 - val_loss: 596.4486\n",
      "Epoch 78/100\n",
      "\u001b[1m176/176\u001b[0m \u001b[32m━━━━━━━━━━━━━━━━━━━━\u001b[0m\u001b[37m\u001b[0m \u001b[1m0s\u001b[0m 475us/step - loss: 528.3121 - val_loss: 597.8333\n",
      "Epoch 79/100\n",
      "\u001b[1m176/176\u001b[0m \u001b[32m━━━━━━━━━━━━━━━━━━━━\u001b[0m\u001b[37m\u001b[0m \u001b[1m0s\u001b[0m 460us/step - loss: 505.5637 - val_loss: 591.9617\n",
      "Epoch 80/100\n",
      "\u001b[1m176/176\u001b[0m \u001b[32m━━━━━━━━━━━━━━━━━━━━\u001b[0m\u001b[37m\u001b[0m \u001b[1m0s\u001b[0m 474us/step - loss: 487.6608 - val_loss: 593.5295\n",
      "Epoch 81/100\n",
      "\u001b[1m176/176\u001b[0m \u001b[32m━━━━━━━━━━━━━━━━━━━━\u001b[0m\u001b[37m\u001b[0m \u001b[1m0s\u001b[0m 491us/step - loss: 488.0818 - val_loss: 587.0731\n",
      "Epoch 82/100\n",
      "\u001b[1m176/176\u001b[0m \u001b[32m━━━━━━━━━━━━━━━━━━━━\u001b[0m\u001b[37m\u001b[0m \u001b[1m0s\u001b[0m 486us/step - loss: 501.8258 - val_loss: 587.4083\n",
      "Epoch 83/100\n",
      "\u001b[1m176/176\u001b[0m \u001b[32m━━━━━━━━━━━━━━━━━━━━\u001b[0m\u001b[37m\u001b[0m \u001b[1m0s\u001b[0m 489us/step - loss: 506.3381 - val_loss: 586.2406\n",
      "Epoch 84/100\n",
      "\u001b[1m176/176\u001b[0m \u001b[32m━━━━━━━━━━━━━━━━━━━━\u001b[0m\u001b[37m\u001b[0m \u001b[1m0s\u001b[0m 484us/step - loss: 465.2122 - val_loss: 589.5469\n",
      "Epoch 85/100\n",
      "\u001b[1m176/176\u001b[0m \u001b[32m━━━━━━━━━━━━━━━━━━━━\u001b[0m\u001b[37m\u001b[0m \u001b[1m0s\u001b[0m 472us/step - loss: 469.2089 - val_loss: 591.4915\n",
      "Epoch 86/100\n",
      "\u001b[1m176/176\u001b[0m \u001b[32m━━━━━━━━━━━━━━━━━━━━\u001b[0m\u001b[37m\u001b[0m \u001b[1m0s\u001b[0m 494us/step - loss: 479.0244 - val_loss: 588.1546\n",
      "Epoch 87/100\n",
      "\u001b[1m176/176\u001b[0m \u001b[32m━━━━━━━━━━━━━━━━━━━━\u001b[0m\u001b[37m\u001b[0m \u001b[1m0s\u001b[0m 486us/step - loss: 488.8736 - val_loss: 593.4039\n",
      "Epoch 88/100\n",
      "\u001b[1m176/176\u001b[0m \u001b[32m━━━━━━━━━━━━━━━━━━━━\u001b[0m\u001b[37m\u001b[0m \u001b[1m0s\u001b[0m 473us/step - loss: 575.7330 - val_loss: 586.3237\n",
      "Epoch 89/100\n",
      "\u001b[1m176/176\u001b[0m \u001b[32m━━━━━━━━━━━━━━━━━━━━\u001b[0m\u001b[37m\u001b[0m \u001b[1m0s\u001b[0m 482us/step - loss: 507.3188 - val_loss: 589.7651\n",
      "Epoch 90/100\n",
      "\u001b[1m176/176\u001b[0m \u001b[32m━━━━━━━━━━━━━━━━━━━━\u001b[0m\u001b[37m\u001b[0m \u001b[1m0s\u001b[0m 484us/step - loss: 511.1271 - val_loss: 583.8425\n",
      "Epoch 91/100\n",
      "\u001b[1m176/176\u001b[0m \u001b[32m━━━━━━━━━━━━━━━━━━━━\u001b[0m\u001b[37m\u001b[0m \u001b[1m0s\u001b[0m 481us/step - loss: 517.1724 - val_loss: 587.3422\n",
      "Epoch 92/100\n",
      "\u001b[1m176/176\u001b[0m \u001b[32m━━━━━━━━━━━━━━━━━━━━\u001b[0m\u001b[37m\u001b[0m \u001b[1m0s\u001b[0m 479us/step - loss: 497.7652 - val_loss: 578.6783\n",
      "Epoch 93/100\n",
      "\u001b[1m176/176\u001b[0m \u001b[32m━━━━━━━━━━━━━━━━━━━━\u001b[0m\u001b[37m\u001b[0m \u001b[1m0s\u001b[0m 462us/step - loss: 427.8722 - val_loss: 591.3577\n",
      "Epoch 94/100\n",
      "\u001b[1m176/176\u001b[0m \u001b[32m━━━━━━━━━━━━━━━━━━━━\u001b[0m\u001b[37m\u001b[0m \u001b[1m0s\u001b[0m 478us/step - loss: 510.2457 - val_loss: 586.6213\n",
      "Epoch 95/100\n",
      "\u001b[1m176/176\u001b[0m \u001b[32m━━━━━━━━━━━━━━━━━━━━\u001b[0m\u001b[37m\u001b[0m \u001b[1m0s\u001b[0m 480us/step - loss: 482.2769 - val_loss: 580.3058\n",
      "Epoch 96/100\n",
      "\u001b[1m176/176\u001b[0m \u001b[32m━━━━━━━━━━━━━━━━━━━━\u001b[0m\u001b[37m\u001b[0m \u001b[1m0s\u001b[0m 485us/step - loss: 405.1927 - val_loss: 583.7408\n",
      "Epoch 97/100\n",
      "\u001b[1m176/176\u001b[0m \u001b[32m━━━━━━━━━━━━━━━━━━━━\u001b[0m\u001b[37m\u001b[0m \u001b[1m0s\u001b[0m 495us/step - loss: 451.4294 - val_loss: 581.4695\n",
      "Epoch 98/100\n",
      "\u001b[1m176/176\u001b[0m \u001b[32m━━━━━━━━━━━━━━━━━━━━\u001b[0m\u001b[37m\u001b[0m \u001b[1m0s\u001b[0m 478us/step - loss: 447.3236 - val_loss: 592.6482\n",
      "Epoch 99/100\n",
      "\u001b[1m176/176\u001b[0m \u001b[32m━━━━━━━━━━━━━━━━━━━━\u001b[0m\u001b[37m\u001b[0m \u001b[1m0s\u001b[0m 458us/step - loss: 490.9203 - val_loss: 588.3176\n",
      "Epoch 100/100\n",
      "\u001b[1m176/176\u001b[0m \u001b[32m━━━━━━━━━━━━━━━━━━━━\u001b[0m\u001b[37m\u001b[0m \u001b[1m0s\u001b[0m 454us/step - loss: 393.9750 - val_loss: 590.8413\n",
      "\u001b[1m55/55\u001b[0m \u001b[32m━━━━━━━━━━━━━━━━━━━━\u001b[0m\u001b[37m\u001b[0m \u001b[1m0s\u001b[0m 998us/step\n",
      "LSTM RMSE:  27.987904883647733\n",
      "LSTM MAE:  14.77302047621767\n",
      "LSTM R^2:  0.7631512946962085\n"
     ]
    }
   ],
   "source": [
    "# Generate LSTM Model\n",
    "lstm_model = Sequential([\n",
    "    LSTM(50, activation='relu', input_shape=(X_train_reshaped.shape[1], X_train_reshaped.shape[2])),\n",
    "    Dense(1)\n",
    "])\n",
    "lstm_model.compile(optimizer='adam', loss='mean_squared_error')\n",
    "\n",
    "# Setup Early Stopping to halt training when validation loss does not improve\n",
    "Early_Stop = EarlyStopping(monitor='val_loss', patience=10, restore_best_weights=True)\n",
    "\n",
    "# Fit the LSTM Model on the training data\n",
    "lstm_model.fit(X_train_reshaped, y_train, epochs=100, validation_split=0.2, callbacks=[Early_Stop], verbose=1)\n",
    "\n",
    "# Making predictions using the trained LSTM model\n",
    "lstm_predictions = lstm_model.predict(X_test_reshaped).flatten()\n",
    "\n",
    "# Evaluate the LSTM model performance\n",
    "print(\"LSTM RMSE: \", root_mean_squared_error(y_test, lstm_predictions))\n",
    "print(\"LSTM MAE: \", mean_absolute_error(y_test, lstm_predictions))\n",
    "print(\"LSTM R^2: \", r2_score(y_test, lstm_predictions))"
   ]
  },
  {
   "cell_type": "code",
   "execution_count": 28,
   "id": "a47f5112-1e56-4f8b-a427-18f148103c1a",
   "metadata": {},
   "outputs": [
    {
     "data": {
      "image/png": "[encoded data removed]",
      "text/plain": [
       "<Figure size 1000x600 with 1 Axes>"
      ]
     },
     "metadata": {},
     "output_type": "display_data"
    }
   ],
   "source": [
    "# Defining a function to compare and visualize the performance of models using bar graphs\n",
    "def compare_models(models, rmse_scores, mae_scores, r2_scores):\n",
    "    plt.figure(figsize=(10, 6))  # Setting the figure's size\n",
    "\n",
    "    n = len(models)\n",
    "    index = np.arange(n)\n",
    "    bar_width = 0.30  # Setting the position of the bar graphs\n",
    "\n",
    "    # Creating the bars for the Root Mean Square Error Scores\n",
    "    plt.bar(index, rmse_scores, bar_width, label='RMSE', color='blue')\n",
    "\n",
    "    # Creating the bars for the Mean Absolute Error Scores\n",
    "    plt.bar(index + bar_width, mae_scores, bar_width, label='MAE', color='red')\n",
    "\n",
    "    # Creating the bars for the R-Squared Scores\n",
    "    plt.bar(index + 2 * bar_width, r2_scores, bar_width, label='R2', color='green')\n",
    "\n",
    "    # Setting the Title and Axis Labels\n",
    "    plt.title('Model Performance Comparison')\n",
    "    plt.xlabel('Model')\n",
    "    plt.xticks(index + bar_width, models)\n",
    "    plt.ylabel('Scores')\n",
    "\n",
    "    # Adding a legend to differentiate between multiple plots\n",
    "    plt.legend()\n",
    "\n",
    "    # Displaying the plot with all the scores\n",
    "    plt.tight_layout()\n",
    "    plt.show()\n",
    "\n",
    "# Defining the performance metrics to compare the models\n",
    "models = ['Random Forest', 'SVM', 'ANN', 'LSTM']\n",
    "rmse_scores = [root_mean_squared_error(y_test, rf_predictions),\n",
    "               root_mean_squared_error(y_test, svm_predictions),\n",
    "               root_mean_squared_error(y_test, mlp_predictions),\n",
    "               root_mean_squared_error(y_test, lstm_predictions)]\n",
    "\n",
    "mae_scores = [mean_absolute_error(y_test, rf_predictions),\n",
    "              mean_absolute_error(y_test, svm_predictions),\n",
    "              mean_absolute_error(y_test, mlp_predictions),\n",
    "              mean_absolute_error(y_test, lstm_predictions)]\n",
    "\n",
    "r2_scores = [r2_score(y_test, rf_predictions),\n",
    "             r2_score(y_test, svm_predictions),\n",
    "             r2_score(y_test, mlp_predictions),\n",
    "             r2_score(y_test, lstm_predictions)]\n",
    "\n",
    "# Calling the function to compare the models\n",
    "compare_models(models, rmse_scores, mae_scores, r2_scores)"
   ]
  },
  {
   "cell_type": "code",
   "execution_count": 43,
   "id": "5aa6853e-ad37-43b7-a5ca-972cafa00012",
   "metadata": {},
   "outputs": [
    {
     "name": "stdout",
     "output_type": "stream",
     "text": [
      "Enter Date and Time (YYYY-MM-DD HH:MM):  2023-06-13 03:00\n"
     ]
    },
    {
     "name": "stdout",
     "output_type": "stream",
     "text": [
      "Predicted water usage for 2023-06-13 03:00 is 13.34322627134771 Gal\n",
      "Actual Water usage for 2023-06-12 03:00 is 11.5904870613 Gal\n",
      "Actual Water usage for 2023-06-11 03:00 is 8.88604008033 Gal\n",
      "Actual Water usage for 2023-06-10 03:00 is 14.29493404227 Gal\n",
      "Actual Water usage for 2023-06-06 03:00 is 9.27238964904 Gal\n",
      "\n",
      "Oh, I am sorry, but your water use at the time would be higher than the recent average. What about participating in saving water today? \n",
      "Thanks!\n"
     ]
    },
    {
     "data": {
      "image/png": "[encoded data removed]",
      "text/plain": [
       "<Figure size 700x400 with 2 Axes>"
      ]
     },
     "metadata": {},
     "output_type": "display_data"
    }
   ],
   "source": [
    "# Initialize the start date\n",
    "start_date = datetime(2023, 1, 1)\n",
    "\n",
    "def map_to_datetime(hour, day_offset):\n",
    "    return start_date + timedelta(days=day_offset, hours=hour)\n",
    "\n",
    "# Assuming df is your DataFrame and it has a 'Hour' column\n",
    "df['Datetime'] = [map_to_datetime(row['Hour'], idx // 24) for idx, row in df.iterrows()]\n",
    "\n",
    "def print_actual_demands(input_datetime, df):\n",
    "    actual_demands = {}\n",
    "    year_in_dataset = 2023\n",
    "    adjusted_datetime = input_datetime.replace(year=year_in_dataset)\n",
    "    days_to_check = [1, 2, 3, 7]\n",
    "\n",
    "    for days in days_to_check:\n",
    "        target_datetime = adjusted_datetime - timedelta(days=days)\n",
    "        matching_row = df[df['Datetime'] == target_datetime]\n",
    "        if not matching_row.empty:\n",
    "            actual_demand = matching_row.iloc[0]['Water Consumption(GPM)']\n",
    "            actual_demands[f\"Actual ({days} Day{'s' if days > 1 else ''} Before)\"] = actual_demand\n",
    "            print(f\"Actual Water usage for {target_datetime.strftime('%Y-%m-%d %H:%M')} is {actual_demand} Gal\")\n",
    "        else:\n",
    "            print(f\"No data available for {target_datetime.strftime('%Y-%m-%d %H:%M')}\")\n",
    "            actual_demands[f\"Actual ({days} Day{'s' if days > 1 else ''} Before)\"] = None\n",
    "    return actual_demands\n",
    "\n",
    "def find_matching_date(input_datetime, df):\n",
    "    matching_rows = df[(df['Datetime'].dt.month == input_datetime.month) & \n",
    "                       (df['Datetime'].dt.day == input_datetime.day) & \n",
    "                       (df['Datetime'].dt.hour == input_datetime.hour)].copy()\n",
    "    if not matching_rows.empty:\n",
    "        matching_rows['time_diff'] = abs(matching_rows['Datetime'] - input_datetime)\n",
    "        closest_row = matching_rows.loc[matching_rows['time_diff'].idxmin()]\n",
    "        return closest_row\n",
    "    return pd.DataFrame()\n",
    "\n",
    "def predict_demand(input_date_time_str, df, model, features_used):\n",
    "    input_datetime = pd.to_datetime(input_date_time_str)\n",
    "    matching_row = find_matching_date(input_datetime, df)\n",
    "    if not matching_row.empty:\n",
    "        features = matching_row[features_used].to_frame().transpose()\n",
    "        prediction = model.predict(features)\n",
    "        return prediction[0], matching_row\n",
    "    print(\"No matching date found in the dataset.\")\n",
    "    return None, None\n",
    "\n",
    "def print_water_usage_warning(predicted_demand, actual_demands):\n",
    "    actual_values = [demand for demand in actual_demands.values() if demand is not None]\n",
    "    if actual_values:\n",
    "        average_actual_demand = sum(actual_values) / len(actual_values)\n",
    "        if predicted_demand > average_actual_demand:\n",
    "            print(\"\\nOh, I am sorry, but your water use at the time would be higher than the recent average. What about participating in saving water today? \\nThanks!\")\n",
    "        else:\n",
    "            print(\"\\nGreat news! Your water usage at the time would be within the normal range compared to the recent average.\")\n",
    "    else:\n",
    "        print(\"\\nInsufficient data to compare predicted and actual demands.\")\n",
    "\n",
    "def visualize_demands(predicted_demand, actual_demands):\n",
    "    labels = ['Predicted'] + list(actual_demands.keys())\n",
    "    values = [predicted_demand] + list(actual_demands.values())\n",
    "    \n",
    "    plt.figure(figsize=(7, 4))\n",
    "    gs = gridspec.GridSpec(2, 1, height_ratios=[3, 1])\n",
    "\n",
    "    ax2 = plt.subplot(gs[1])\n",
    "    img = mpimg.imread(image_path)\n",
    "    ax2.imshow(img)\n",
    "    ax2.axis('off')\n",
    "\n",
    "    ax1 = plt.subplot(gs[0])\n",
    "    ax1.bar(labels, values, color=['blue'] + ['orange'] * len(actual_demands))\n",
    "    ax1.set_title('Comparison of Predicted and Previous Water Usage')\n",
    "    ax1.set_xlabel('Time Relative to Prediction Date')\n",
    "    ax1.set_ylabel('Water Usage (Gallons)')\n",
    "    ax1.set_xticks(range(len(labels)))\n",
    "    ax1.set_xticklabels(labels, rotation=45)\n",
    "\n",
    "    plt.tight_layout()\n",
    "    plt.show()\n",
    "\n",
    "\n",
    "input_date_time_str = input(\"Enter Date and Time (YYYY-MM-DD HH:MM): \")\n",
    "input_datetime = pd.to_datetime(input_date_time_str)\n",
    "features_used = X_train.columns.tolist()  # Assuming X_train is defined\n",
    "predicted_demand, _ = predict_demand(input_date_time_str, df, rf, features_used)\n",
    "image_path = '/Users/veer/Desktop/ML_Project/Green_Fee_Marker.png'\n",
    "\n",
    "# Print the predicted demand and actual demands\n",
    "if predicted_demand is not None:\n",
    "    print(f\"Predicted water usage for {input_date_time_str} is {predicted_demand} Gal\")\n",
    "    actual_demands = print_actual_demands(input_datetime, df)\n",
    "    print_water_usage_warning(predicted_demand, actual_demands)\n",
    "    visualize_demands(predicted_demand, actual_demands)"
   ]
  }
 ],
 "metadata": {
  "colab": {
   "provenance": []
  },
  "kernelspec": {
   "display_name": "Python 3 (ipykernel)",
   "language": "python",
   "name": "python3"
  },
  "language_info": {
   "codemirror_mode": {
    "name": "ipython",
    "version": 3
   },
   "file_extension": ".py",
   "mimetype": "text/x-python",
   "name": "python",
   "nbconvert_exporter": "python",
   "pygments_lexer": "ipython3",
   "version": "3.12.2"
  }
 },
 "nbformat": 4,
 "nbformat_minor": 5
}
